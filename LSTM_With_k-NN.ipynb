{
 "cells": [
  {
   "cell_type": "code",
   "execution_count": 1,
   "id": "58241250",
   "metadata": {},
   "outputs": [],
   "source": [
    "\n",
    "import pandas as pd\n",
    "import numpy as np\n",
    "from collections import defaultdict\n",
    "from sklearn.metrics import accuracy_score, confusion_matrix, ConfusionMatrixDisplay\n",
    "from sklearn.preprocessing import StandardScaler\n",
    "from sklearn.neighbors import KNeighborsClassifier\n",
    "from tensorflow.keras.models import Sequential, Model\n",
    "from tensorflow.keras.layers import LSTM, Dense, Dropout, Masking, Bidirectional, Input\n",
    "from tensorflow.keras.utils import to_categorical\n",
    "from tensorflow.keras.callbacks import EarlyStopping\n",
    "import matplotlib.pyplot as plt\n",
    "from tqdm import tqdm\n"
   ]
  },
  {
   "cell_type": "code",
   "execution_count": 2,
   "id": "1613562c",
   "metadata": {},
   "outputs": [],
   "source": [
    "\n",
    "df = pd.read_csv(r\"C:\\Users\\RS10\\Documents\\Python\\Master Inge\\Machine learning\\Projet\\Standardize.csv\")\n",
    "df = df[df['x'] != 'x']\n",
    "df[['x', 'y', 'z', 'time']] = df[['x', 'y', 'z', 'time']].astype(float)\n",
    "df['gesture'] = df['gesture'].astype(int)\n",
    "\n",
    "grouped = df.groupby(['user', 'gesture', 'sequence'])\n",
    "sequences = defaultdict(list)\n",
    "for (user, gesture, sequence), group in grouped:\n",
    "    seq = group.sort_values(by='time')[['x', 'y', 'z', 'time']].to_numpy()\n",
    "    sequences[(user, gesture)].append(seq)\n"
   ]
  },
  {
   "cell_type": "code",
   "execution_count": 3,
   "id": "12c7eeaa",
   "metadata": {},
   "outputs": [],
   "source": [
    "\n",
    "def preprocess_sequences(sequence_list, max_len=None, scaler=None, fit_scaler=True):\n",
    "    X, y = [], []\n",
    "    for gesture_id, seqs in sequence_list:\n",
    "        for seq in seqs:\n",
    "            original_len = seq.shape[0]\n",
    "            original_indices = np.linspace(0, 1, original_len)\n",
    "            target_indices = np.linspace(0, 1, max_len)\n",
    "            interpolated_features = [\n",
    "                np.interp(target_indices, original_indices, seq[:, col].astype(float))\n",
    "                for col in range(4)\n",
    "            ]\n",
    "            interpolated_seq = np.stack(interpolated_features, axis=1)\n",
    "            X.append(interpolated_seq)\n",
    "            y.append(gesture_id)\n",
    "    X = np.array(X)\n",
    "    if fit_scaler:\n",
    "        scaler = StandardScaler()\n",
    "        X = scaler.fit_transform(X.reshape(-1, 4)).reshape(X.shape)\n",
    "    else:\n",
    "        X = scaler.transform(X.reshape(-1, 4)).reshape(X.shape)\n",
    "    y = to_categorical(np.array(y), num_classes=10)\n",
    "    return X, y, scaler\n"
   ]
  },
  {
   "cell_type": "code",
   "execution_count": 4,
   "id": "0fb2d608",
   "metadata": {},
   "outputs": [],
   "source": [
    "def build_full_lstm(input_shape):\n",
    "    inputs = Input(shape=input_shape)\n",
    "    x = Masking(mask_value=0.)(inputs)\n",
    "    x = LSTM(128, return_sequences=True)(x)\n",
    "    x = Dropout(0.1)(x)\n",
    "    x = Bidirectional(LSTM(64))(x)\n",
    "    x = Dropout(0.1)(x)\n",
    "    x = Dense(64, activation='relu')(x)\n",
    "    x = Dense(32, activation='relu', name=\"embedding\")(x)\n",
    "    outputs = Dense(10, activation='softmax')(x)\n",
    "\n",
    "    model = Model(inputs=inputs, outputs=outputs)\n",
    "    model.compile(optimizer='adam', loss='categorical_crossentropy', metrics=['accuracy'])\n",
    "    return model\n",
    "\n",
    "def extract_embedding_model(full_model):\n",
    "    return Model(inputs=full_model.input, outputs=full_model.get_layer(\"embedding\").output)\n"
   ]
  },
  {
   "cell_type": "code",
   "execution_count": null,
   "id": "fcff4162",
   "metadata": {},
   "outputs": [],
   "source": [
    "\n",
    "def evaluate_lstm_knn(sequences, k=1):\n",
    "    users = sorted(set(u for u, _ in sequences))\n",
    "    accuracies = []\n",
    "    all_y_true, all_y_pred = [], []\n",
    "\n",
    "    for test_user in tqdm(users, desc=\"LSTM + k-NN Evaluation\"):\n",
    "        train_seqs = [((g), s) for (u, g), s in sequences.items() if u != test_user]\n",
    "        test_seqs  = [((g), s) for (u, g), s in sequences.items() if u == test_user]\n",
    "\n",
    "        max_len = max(seq.shape[0] for _, seqs in train_seqs + test_seqs for seq in seqs)\n",
    "        X_train, y_train, scaler = preprocess_sequences(train_seqs, max_len=max_len, fit_scaler=True)\n",
    "        X_test, y_test, _ = preprocess_sequences(test_seqs, max_len=max_len, scaler=scaler, fit_scaler=False)\n",
    "\n",
    "        model = build_full_lstm((max_len, 4))\n",
    "        model.fit(X_train, y_train, validation_split=0.1, epochs=100, batch_size=16, verbose=0)\n",
    "        embedding_model = extract_embedding_model(model)\n",
    "        X_train_embed = embedding_model.predict(X_train, verbose=0)\n",
    "        X_test_embed = embedding_model.predict(X_test, verbose=0)\n",
    "\n",
    "        y_train_labels = np.argmax(y_train, axis=1)\n",
    "        y_test_labels = np.argmax(y_test, axis=1)\n",
    "\n",
    "        knn = KNeighborsClassifier(n_neighbors=k)\n",
    "        knn.fit(X_train_embed, y_train_labels)\n",
    "        y_pred = knn.predict(X_test_embed)\n",
    "\n",
    "        acc = accuracy_score(y_test_labels, y_pred)\n",
    "        accuracies.append(acc)\n",
    "        all_y_true.extend(y_test_labels)\n",
    "        all_y_pred.extend(y_pred)\n",
    "\n",
    "    print(\"LSTM + k-NN Accuracy: {:.2f}% ± {:.2f}\".format(100 * np.mean(accuracies), 100 * np.std(accuracies)))\n",
    "    cm = confusion_matrix(all_y_true, all_y_pred, labels=sorted(set(all_y_true)))\n",
    "    disp = ConfusionMatrixDisplay(confusion_matrix=cm, display_labels=range(10))\n",
    "    disp.plot(xticks_rotation=45, cmap=\"Blues\")\n",
    "    plt.title(\"Confusion Matrix (LSTM + k-NN)\")\n",
    "    plt.show()\n",
    "    return accuracies\n"
   ]
  },
  {
   "cell_type": "code",
   "execution_count": 6,
   "id": "1c8ca283",
   "metadata": {},
   "outputs": [
    {
     "name": "stderr",
     "output_type": "stream",
     "text": [
      "LSTM + k-NN Evaluation:   0%|          | 0/10 [00:00<?, ?it/s]\n"
     ]
    },
    {
     "ename": "NameError",
     "evalue": "name 'early_stopping' is not defined",
     "output_type": "error",
     "traceback": [
      "\u001b[31m---------------------------------------------------------------------------\u001b[39m",
      "\u001b[31mNameError\u001b[39m                                 Traceback (most recent call last)",
      "\u001b[36mCell\u001b[39m\u001b[36m \u001b[39m\u001b[32mIn[6]\u001b[39m\u001b[32m, line 1\u001b[39m\n\u001b[32m----> \u001b[39m\u001b[32m1\u001b[39m \u001b[43mevaluate_lstm_knn\u001b[49m\u001b[43m(\u001b[49m\u001b[43msequences\u001b[49m\u001b[43m)\u001b[49m\n",
      "\u001b[36mCell\u001b[39m\u001b[36m \u001b[39m\u001b[32mIn[5]\u001b[39m\u001b[32m, line 15\u001b[39m, in \u001b[36mevaluate_lstm_knn\u001b[39m\u001b[34m(sequences, k)\u001b[39m\n\u001b[32m     12\u001b[39m X_test, y_test, _ = preprocess_sequences(test_seqs, max_len=max_len, scaler=scaler, fit_scaler=\u001b[38;5;28;01mFalse\u001b[39;00m)\n\u001b[32m     14\u001b[39m model = build_full_lstm((max_len, \u001b[32m4\u001b[39m))\n\u001b[32m---> \u001b[39m\u001b[32m15\u001b[39m model.fit(X_train, y_train, validation_split=\u001b[32m0.1\u001b[39m, epochs=\u001b[32m100\u001b[39m, batch_size=\u001b[32m16\u001b[39m, verbose=\u001b[32m0\u001b[39m, callbacks=[\u001b[43mearly_stopping\u001b[49m])\n\u001b[32m     16\u001b[39m embedding_model = extract_embedding_model(model)\n\u001b[32m     17\u001b[39m X_train_embed = embedding_model.predict(X_train, verbose=\u001b[32m0\u001b[39m)\n",
      "\u001b[31mNameError\u001b[39m: name 'early_stopping' is not defined"
     ]
    }
   ],
   "source": [
    "evaluate_lstm_knn(sequences)"
   ]
  },
  {
   "cell_type": "code",
   "execution_count": 11,
   "id": "0d4c1d9d",
   "metadata": {},
   "outputs": [],
   "source": [
    "def evaluate_leave_one_sample_per_gesture_out_lstm(sequences, k=1):\n",
    "    users = sorted(set(u for u, _ in sequences.keys()))\n",
    "    accuracies = []\n",
    "    all_y_true, all_y_pred = [], []\n",
    "\n",
    "    for user in tqdm(users, desc=\"LSTM Leave-One-Sample-Per-Gesture-Out CV\"):\n",
    "        user_data = {k: v for k, v in sequences.items() if k[0] == user}\n",
    "\n",
    "        # Ensure each gesture has at least 10 samples\n",
    "        if not all(len(seq_list) >= 10 for (u, g), seq_list in user_data.items() if u == user):\n",
    "            print(f\"User {user} skipped due to insufficient gesture samples.\")\n",
    "            continue\n",
    "\n",
    "        for i in range(10):  # 10 folds, one for each gesture sample\n",
    "            train_data = []\n",
    "            test_data = []\n",
    "\n",
    "            for (u, gesture), seq_list in user_data.items():\n",
    "                test_seq = seq_list[i]\n",
    "                train_seqs = [seq for j, seq in enumerate(seq_list) if j != i]\n",
    "\n",
    "                test_data.append((gesture, test_seq))\n",
    "                train_data.extend([(gesture, seq) for seq in train_seqs])\n",
    "\n",
    "            # Determine max length for padding/interpolation\n",
    "            max_len = max(seq.shape[0] for _, seq in train_data + test_data)\n",
    "\n",
    "            # Preprocess\n",
    "            grouped_train = [(g, [s]) for g, s in train_data]\n",
    "            grouped_test = [(g, [s]) for g, s in test_data]\n",
    "\n",
    "            X_train, y_train, scaler = preprocess_sequences(grouped_train, max_len=max_len, fit_scaler=True)\n",
    "            X_test, y_test, _ = preprocess_sequences(grouped_test, max_len=max_len, scaler=scaler, fit_scaler=False)\n",
    "\n",
    "            # Build and train LSTM\n",
    "            model = build_full_lstm((max_len, 4))\n",
    "            model.fit(X_train, y_train, validation_split=0.1, epochs=100, batch_size=16, verbose=0)\n",
    "\n",
    "            embedding_model = extract_embedding_model(model)\n",
    "            X_train_embed = embedding_model.predict(X_train, verbose=0)\n",
    "            X_test_embed = embedding_model.predict(X_test, verbose=0)\n",
    "\n",
    "            y_train_labels = np.argmax(y_train, axis=1)\n",
    "            y_test_labels = np.argmax(y_test, axis=1)\n",
    "\n",
    "            # k-NN classification\n",
    "            knn = KNeighborsClassifier(n_neighbors=k)\n",
    "            knn.fit(X_train_embed, y_train_labels)\n",
    "            y_pred = knn.predict(X_test_embed)\n",
    "\n",
    "            acc = accuracy_score(y_test_labels, y_pred)\n",
    "            accuracies.append(acc)\n",
    "            all_y_true.extend(y_test_labels)\n",
    "            all_y_pred.extend(y_pred)\n",
    "\n",
    "    if not all_y_true:\n",
    "        print(\"No predictions made. Possibly due to insufficient data.\")\n",
    "        return accuracies\n",
    "\n",
    "    print(\"LSTM Leave-One-Sample-Per-Gesture-Out Accuracy: {:.2f}% ± {:.2f}\".format(\n",
    "        100 * np.mean(accuracies), 100 * np.std(accuracies)))\n",
    "\n",
    "    # Confusion Matrix\n",
    "    labels = sorted(set(all_y_true + all_y_pred))\n",
    "    cm = confusion_matrix(all_y_true, all_y_pred, labels=labels)\n",
    "    disp = ConfusionMatrixDisplay(confusion_matrix=cm, display_labels=labels)\n",
    "    disp.plot(xticks_rotation=45, cmap=\"Oranges\")\n",
    "    plt.title(\"Confusion Matrix (LSTM Leave-One-Gesture-Sample-Out CV)\")\n",
    "    plt.show()\n",
    "\n",
    "    return accuracies"
   ]
  },
  {
   "cell_type": "code",
   "execution_count": null,
   "id": "336c2c31",
   "metadata": {},
   "outputs": [
    {
     "name": "stderr",
     "output_type": "stream",
     "text": [
      "LSTM Leave-One-Sample-Per-Gesture-Out CV:   0%|          | 0/10 [00:00<?, ?it/s]"
     ]
    }
   ],
   "source": [
    "evaluate_leave_one_sample_per_gesture_out_lstm(sequences)"
   ]
  }
 ],
 "metadata": {
  "kernelspec": {
   "display_name": "Python 3",
   "language": "python",
   "name": "python3"
  },
  "language_info": {
   "codemirror_mode": {
    "name": "ipython",
    "version": 3
   },
   "file_extension": ".py",
   "mimetype": "text/x-python",
   "name": "python",
   "nbconvert_exporter": "python",
   "pygments_lexer": "ipython3",
   "version": "3.12.5"
  }
 },
 "nbformat": 4,
 "nbformat_minor": 5
}
