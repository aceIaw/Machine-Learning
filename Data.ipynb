{
 "cells": [
  {
   "cell_type": "code",
   "execution_count": 1,
   "metadata": {},
   "outputs": [
    {
     "name": "stdout",
     "output_type": "stream",
     "text": [
      "qskdfj\n",
      "85095\n",
      "[127, 128, 172, 98, 117, 110, 109, 118, 107, 118, 137, 119, 108, 103, 115, 96, 89, 94, 88, 88, 88, 83, 86, 90, 91, 95, 90, 86, 95, 95, 133, 117, 118, 145, 112, 116, 130, 111, 114, 133, 110, 113, 110, 103, 104, 111, 123, 111, 77, 86, 98, 111, 90, 100, 109, 146, 132, 102, 143, 94, 93, 83, 97, 88, 85, 91, 92, 83, 67, 93, 60, 55, 51, 47, 44, 49, 50, 45, 42, 59, 120, 109, 98, 103, 111, 99, 86, 91, 92, 104, 100, 85, 74, 87, 81, 94, 69, 71, 84, 70, 66, 51, 46, 47, 48, 45, 44, 43, 40, 60, 65, 67, 65, 57, 62, 51, 56, 52, 52, 65, 74, 54, 49, 48, 51, 51, 46, 44, 42, 56, 50, 49, 44, 40, 39, 44, 45, 43, 42, 48, 59, 58, 47, 49, 46, 48, 45, 45, 46, 45, 50, 52, 45, 44, 44, 45, 44, 45, 44, 44, 44, 52, 42, 42, 42, 38, 40, 35, 38, 38, 38, 34, 32, 31, 34, 37, 32, 37, 32, 33, 70, 61, 61, 68, 70, 66, 69, 71, 60, 63, 62, 51, 53, 55, 51, 53, 53, 53, 47, 66, 169, 130, 134, 137, 138, 128, 122, 117, 117, 119, 181, 122, 118, 108, 95, 101, 98, 100, 95, 95, 128, 113, 106, 94, 97, 93, 94, 86, 88, 86, 145, 112, 108, 111, 101, 146, 116, 104, 122, 118, 120, 79, 71, 68, 63, 61, 61, 64, 68, 81, 93, 95, 87, 106, 96, 99, 89, 98, 85, 94, 123, 100, 87, 83, 96, 78, 75, 69, 59, 77, 52, 56, 61, 49, 52, 47, 43, 43, 59, 53, 81, 141, 160, 103, 107, 102, 106, 115, 117, 111, 115, 96, 96, 92, 90, 87, 87, 89, 87, 88, 110, 78, 66, 51, 64, 68, 62, 57, 64, 66, 120, 93, 80, 72, 70, 67, 64, 66, 58, 65, 68, 56, 52, 49, 47, 46, 49, 52, 49, 52, 83, 65, 60, 64, 68, 63, 71, 73, 69, 62, 65, 59, 61, 56, 50, 52, 53, 66, 55, 57, 78, 69, 69, 78, 70, 67, 66, 66, 62, 69, 114, 80, 87, 76, 72, 74, 70, 73, 71, 64, 41, 45, 46, 44, 44, 49, 46, 43, 45, 51, 74, 75, 74, 77, 76, 73, 70, 64, 63, 73, 56, 57, 60, 55, 53, 58, 59, 61, 56, 55, 129, 120, 115, 82, 91, 85, 83, 93, 95, 93, 131, 134, 143, 103, 108, 98, 94, 95, 124, 123, 101, 88, 84, 81, 88, 89, 87, 84, 93, 97, 98, 96, 85, 86, 80, 85, 79, 83, 77, 92, 101, 91, 93, 83, 85, 86, 86, 82, 80, 93, 101, 98, 98, 99, 107, 99, 102, 95, 123, 105, 99, 84, 77, 72, 83, 76, 74, 72, 72, 74, 63, 59, 60, 52, 48, 57, 55, 57, 58, 62, 133, 116, 113, 110, 111, 110, 100, 95, 95, 108, 109, 98, 78, 82, 78, 71, 83, 77, 74, 94, 158, 190, 126, 125, 116, 109, 115, 119, 139, 147, 110, 113, 102, 84, 91, 87, 83, 77, 83, 83, 85, 83, 69, 85, 81, 99, 86, 85, 89, 96, 97, 78, 99, 85, 83, 78, 77, 75, 66, 71, 103, 100, 86, 78, 81, 80, 75, 73, 84, 80, 102, 89, 81, 72, 87, 84, 85, 75, 67, 79, 87, 77, 73, 74, 84, 84, 85, 79, 79, 92, 69, 59, 60, 68, 59, 64, 51, 56, 59, 59, 153, 122, 108, 94, 130, 148, 115, 108, 107, 118, 106, 85, 86, 79, 76, 68, 73, 84, 82, 95, 102, 108, 90, 93, 92, 86, 81, 93, 85, 90, 92, 89, 85, 83, 83, 84, 75, 82, 77, 83, 74, 81, 81, 88, 79, 77, 78, 88, 87, 80, 117, 100, 94, 87, 88, 88, 85, 92, 82, 87, 121, 108, 141, 105, 103, 96, 87, 88, 82, 83, 124, 100, 93, 107, 95, 95, 95, 84, 88, 82, 104, 96, 111, 109, 98, 97, 84, 73, 75, 65, 61, 56, 53, 56, 55, 74, 59, 63, 66, 53, 155, 148, 144, 138, 154, 153, 133, 128, 132, 138, 130, 156, 140, 123, 130, 133, 147, 128, 119, 123, 85, 90, 85, 78, 79, 67, 65, 67, 81, 79, 117, 114, 112, 125, 122, 98, 86, 99, 95, 94, 79, 75, 66, 66, 75, 64, 66, 63, 65, 65, 87, 100, 99, 101, 93, 85, 90, 86, 78, 82, 91, 103, 85, 94, 101, 97, 93, 92, 90, 99, 99, 127, 98, 102, 103, 89, 101, 90, 99, 89, 93, 96, 133, 110, 91, 95, 89, 101, 96, 115, 55, 55, 59, 53, 51, 54, 59, 50, 58, 56, 125, 151, 144, 112, 123, 119, 129, 126, 113, 105, 110, 109, 102, 89, 99, 85, 91, 94, 98, 113, 68, 67, 72, 66, 66, 66, 68, 69, 67, 73, 85, 88, 86, 90, 90, 89, 89, 94, 89, 88, 71, 71, 65, 63, 72, 70, 72, 73, 75, 72, 85, 82, 82, 81, 85, 84, 85, 85, 94, 88, 75, 85, 81, 82, 83, 87, 85, 81, 83, 87, 80, 75, 92, 86, 82, 88, 83, 79, 80, 86, 85, 74, 81, 73, 82, 75, 70, 79, 82, 80, 47, 54, 49, 52, 58, 49, 54, 54, 59, 50, 90, 103, 84, 97, 86, 91, 95, 96, 93, 91, 84, 86, 79, 84, 85, 71, 77, 79, 77, 80, 156, 80, 82, 89, 87, 88, 83, 89, 95, 89, 137, 108, 105, 115, 100, 92, 97, 95, 95, 97, 98, 84, 94, 75, 72, 74, 71, 69, 73, 70, 81, 78, 82, 78, 72, 80, 73, 86, 93, 89, 88, 75, 83, 91, 86, 240, 99, 109, 123, 118, 124, 90, 97, 92, 90, 89, 96, 89, 91, 108, 76, 82, 79, 76, 81, 83, 80, 73, 83, 77, 61, 51, 57, 55, 51, 51, 53, 50, 47, 44, 168, 141, 173, 133, 133, 131, 138, 136, 116, 123, 111, 113, 89, 92, 93, 88, 96, 108, 176, 119]\n",
      "85095\n"
     ]
    }
   ],
   "source": [
    "import pandas as pd\n",
    "\n",
    "Sujet_1 = []\n",
    "taille_fichier = []\n",
    "for i2 in range(1,11):\n",
    "        for i3 in range(0,10):\n",
    "            for i4 in range(1,11):\n",
    "                fichier_csv = f'Subject{i2}-{i3}-{i4}.csv'\n",
    "                donnees = pd.read_csv(fichier_csv)\n",
    "                # Extraire chaque colonne dans une variable\n",
    "                colonne1 = donnees['<x>'].tolist()\n",
    "                colonne2 = donnees['<y>'].tolist()\n",
    "                colonne3 = donnees['<z>'].tolist()\n",
    "                colonne4 = donnees['<t>'].tolist()\n",
    "\n",
    "                # Afficher les données de chaque colonne pour vérification\n",
    "                \n",
    "\n",
    "\n",
    "              \n",
    "                for i in range(len(colonne1)):\n",
    "                    Sujet_1.append([i2,i3,i4,colonne1[i],colonne2[i],colonne3[i],colonne4[i]])\n",
    "                taille_fichier.append(len(colonne1))\n",
    "s = 0\n",
    "for i5 in taille_fichier:\n",
    "     s+=i5\n",
    "\n",
    "print(\"qskdfj\")\n",
    "print(len(Sujet_1))\n",
    "print(taille_fichier)\n",
    "print(s)\n",
    "\n",
    "           \n",
    "\n",
    "\n",
    "\n",
    "                \n",
    "\n",
    "\n",
    "\n",
    "                                \n",
    "\n"
   ]
  },
  {
   "cell_type": "code",
   "execution_count": null,
   "metadata": {},
   "outputs": [],
   "source": []
  },
  {
   "cell_type": "markdown",
   "metadata": {},
   "source": []
  },
  {
   "cell_type": "code",
   "execution_count": 2,
   "metadata": {},
   "outputs": [
    {
     "name": "stdout",
     "output_type": "stream",
     "text": [
      "Le fichier CSV a été créé avec succès.\n"
     ]
    }
   ],
   "source": [
    "\n",
    "# Convertir la liste en DataFrame\n",
    "df = pd.DataFrame(Sujet_1)  # Remplacez 'NomColonne' par le nom de votre choix\n",
    "\n",
    "# Sauvegarder le DataFrame dans un fichier CSV\n",
    "chemin_fichier_csv = 'chemin_vers_le_fichier.csv'  # Remplacez par le chemin où vous voulez enregistrer le fichier\n",
    "df.to_csv(chemin_fichier_csv, index=False)  # `index=False` pour ne pas inclure l'index du DataFrame dans le fichier\n",
    "\n",
    "print(\"Le fichier CSV a été créé avec succès.\")"
   ]
  },
  {
   "cell_type": "code",
   "execution_count": 2,
   "metadata": {},
   "outputs": [
    {
     "name": "stdout",
     "output_type": "stream",
     "text": [
      "Standardization complete. Means after standardization:\n",
      "3    0.000000e+00\n",
      "4    6.679995e-17\n",
      "5    2.565118e-16\n",
      "dtype: float64\n",
      "Standard deviations after standardization:\n",
      "3    1.0\n",
      "4    1.0\n",
      "5    1.0\n",
      "dtype: float64\n"
     ]
    }
   ],
   "source": [
    "import pandas as pd\n",
    "\n",
    "# Load the CSV file\n",
    "file_path = \"chemin_vers_le_fichier.csv\"\n",
    "df = pd.read_csv(file_path)\n",
    "\n",
    "# Select columns D to F (4th to 6th)\n",
    "col_names = df.columns[3:6]\n",
    "\n",
    "# Clean + standardize\n",
    "for name in col_names:\n",
    "    if df[name].isnull().any():\n",
    "        df[name] = df[name].fillna(df[name].mean())\n",
    "\n",
    "    std = df[name].std()\n",
    "    if std == 0:\n",
    "        print(f\"Skipping '{name}' due to zero standard deviation.\")\n",
    "        continue\n",
    "\n",
    "    df[name] = (df[name] - df[name].mean()) / std\n",
    "\n",
    "# Save the standardized file\n",
    "output_path = \"Standardized_Data.csv\"\n",
    "df.to_csv(output_path, index=False)\n",
    "\n",
    "print(\"Standardization complete. Means after standardization:\")\n",
    "print(df[col_names].mean())\n",
    "print(\"Standard deviations after standardization:\")\n",
    "print(df[col_names].std())\n"
   ]
  },
  {
   "cell_type": "code",
   "execution_count": 3,
   "metadata": {},
   "outputs": [
    {
     "name": "stdout",
     "output_type": "stream",
     "text": [
      "Standardization + Normalization complete.\n",
      "Final stats:\n",
      "Means:\n",
      "3    0.496419\n",
      "4    0.508855\n",
      "5    0.374709\n",
      "dtype: float64\n",
      "Standard Deviations:\n",
      "3    0.150649\n",
      "4    0.181041\n",
      "5    0.150842\n",
      "dtype: float64\n",
      "Min values:\n",
      "3    0.0\n",
      "4    0.0\n",
      "5    0.0\n",
      "dtype: float64\n",
      "Max values:\n",
      "3    1.0\n",
      "4    1.0\n",
      "5    1.0\n",
      "dtype: float64\n"
     ]
    }
   ],
   "source": [
    "import pandas as pd\n",
    "\n",
    "# Load the CSV file\n",
    "file_path = \"chemin_vers_le_fichier.csv\"\n",
    "df = pd.read_csv(file_path)\n",
    "\n",
    "# Select columns D to F (4th to 6th)\n",
    "col_names = df.columns[3:6]\n",
    "\n",
    "# Clean + standardize\n",
    "for name in col_names:\n",
    "    if df[name].isnull().any():\n",
    "        df[name] = df[name].fillna(df[name].mean())\n",
    "\n",
    "    std = df[name].std()\n",
    "    if std == 0:\n",
    "        print(f\"Skipping '{name}' due to zero standard deviation.\")\n",
    "        continue\n",
    "\n",
    "    df[name] = (df[name] - df[name].mean()) / std\n",
    "\n",
    "# Apply Min-Max normalization (after standardization)\n",
    "for name in col_names:\n",
    "    min_val = df[name].min()\n",
    "    max_val = df[name].max()\n",
    "    if max_val - min_val == 0:\n",
    "        print(f\"Skipping normalization for '{name}' due to zero range.\")\n",
    "        continue\n",
    "    df[name] = (df[name] - min_val) / (max_val - min_val)\n",
    "\n",
    "# Save the final result\n",
    "output_path = \"Normalized_Data.csv\"\n",
    "df.to_csv(output_path, index=False)\n",
    "\n",
    "print(\"Standardization + Normalization complete.\")\n",
    "print(\"Final stats:\")\n",
    "print(\"Means:\")\n",
    "print(df[col_names].mean())\n",
    "print(\"Standard Deviations:\")\n",
    "print(df[col_names].std())\n",
    "print(\"Min values:\")\n",
    "print(df[col_names].min())\n",
    "print(\"Max values:\")\n",
    "print(df[col_names].max())"
   ]
  }
 ],
 "metadata": {
  "kernelspec": {
   "display_name": "Python 3",
   "language": "python",
   "name": "python3"
  },
  "language_info": {
   "codemirror_mode": {
    "name": "ipython",
    "version": 3
   },
   "file_extension": ".py",
   "mimetype": "text/x-python",
   "name": "python",
   "nbconvert_exporter": "python",
   "pygments_lexer": "ipython3",
   "version": "3.11.9"
  }
 },
 "nbformat": 4,
 "nbformat_minor": 2
}
